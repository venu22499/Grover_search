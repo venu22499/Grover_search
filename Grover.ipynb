{
 "cells": [
  {
   "cell_type": "markdown",
   "metadata": {},
   "source": [
    "# Grover's Database Search Algorithm"
   ]
  },
  {
   "cell_type": "markdown",
   "metadata": {},
   "source": [
    "## Introduction\n",
    "\n",
    "Grover's algorithm is a quantum algorithm that discovers the unique input to an oracle (black box) function that produces a known output value, using just $O({\\sqrt {N}})$ evaluations of the function, where $N$ is the size of the function's domain. This algorithm was devised by Lov Grover in 1996, an Indian-American computer scientist.\n",
    "\n",
    "The analogous search problem in classical computation cannot be solved in fewer than $O(N)$ evaluations. At roughly the same time that Grover published his algorithm, Bennett, Bernstein, Brassard, and Vazirani proved that any quantum solution to the problem needs to evaluate the function $\\Omega ({\\sqrt {N}})$ times, so Grover's algorithm is asymptotically optimal.\n",
    "\n",
    "Unlike other quantum algorithms, which may provide exponential speedup over their classical counterparts (Shor's Factoring Algorithm), Grover's algorithm provides only a quadratic speedup. However, even quadratic speedup is considerable when $N$ is large. Grover's algorithm could brute-force a $128$-bit symmetric cryptographic key in roughly $264$ iterations, or a $256$-bit key in roughly $2128$ iterations. As a result, it is sometimes suggested that symmetric key lengths be doubled to protect against future quantum attacks.\n",
    "\n",
    "To start with, let us consider the quantum oracle.\n",
    "$\\newcommand{\\ket}[1]{\\left|{#1}\\right\\rangle}$\n",
    "$\\newcommand{\\bra}[1]{\\left\\langle{#1}\\right|}$\n",
    "$\\newcommand{\\braket}[2]{\\left\\langle{#1}\\middle|{#2}\\right\\rangle}$"
   ]
  },
  {
   "cell_type": "markdown",
   "metadata": {},
   "source": [
    "## The Oracle\n",
    "\n",
    "Given a search space of $N$ elements, we use the index of an element as the primary search key. This is a number in the range $0$ to $N − 1$. \n",
    "\n",
    "For convenience we make the following assumptions:\n",
    "1. $N = 2^n$, enabling the index to be stored in $n$ bits.\n",
    "2. The search problem has exactly $M$ solutions, with $1 ≤ M ≤ N$. \n",
    "\n",
    "We can represent a particular instance of the search problem by a function $f$, taking as input an integer $x \\in \\{0, 1, ..., N - 1\\}$ such that \n",
    "\\begin{equation}\n",
    "    f(x) = \n",
    "        \\begin{cases}\n",
    "            1 & \\text{$x$ is a solution to the search problem}\\\\\n",
    "            0 & \\text{otherwise}\n",
    "        \\end{cases}\n",
    "\\end{equation}\n",
    "\n",
    "Suppose a quantum oracle (black box) with the ability to \"recognize\" solutions to the search problem is available. An oracle qubit $q$ is used to signal this recognition and the oracle is modelled as an unitary operator **$\\textit{O}$** which operates as:\n",
    "\n",
    "$$ \\ket{x}\\ket{q} \\xrightarrow{\\textit{O}} \\ket{x}\\ket{q \\oplus f(x)} $$\n",
    "\n",
    "where \n",
    "* $\\ket{x}$ : index register\n",
    "* $\\oplus$  : addition modulo 2\n",
    "* $\\ket{q}$ : oracle qubit (value is flipped if $f(x) = 1$, otherwise unchanged)\n",
    "\n",
    "It can be verified that $x$ is a solution to the search problem by preparing $\\ket{x}\\ket{0}$, applying the oracle, and checking to see if the oracle qubit has been flipped to $\\ket{1}$.\n",
    "\n",
    "It is useful to prepare the oracle qubit in the state $\\ket{-} = \\frac{\\ket{0} - \\ket{1}}{\\sqrt{2}}$. If $x$ is not a solution to the search problem, applying the oracle to the state $\\ket{x}\\ket{-}$ does not change the state. Otherwise if $x$ is a solution, then the final state is $-\\ket{x}\\ket{-}$. Thus the oracle exihibits the following effect:\n",
    "\n",
    "$$\\ket{x}\\ket{-} \\xrightarrow{\\textit{O}} (-1)^{f(x)}\\ket{x}\\ket{-}$$\n",
    "\n",
    "To simplify our description, we can omit the oracle qubit $\\ket{-}$ since it remains unchanged. The action of the oracle is henceforth written as:\n",
    "\n",
    "$$\\ket{x} \\xrightarrow{\\textit{O}} (-1)^{f(x)}\\ket{x}$$\n",
    "\n",
    "The oracle thus $\\textit{marks the solutions}$ of the search problem by $\\textit{inverting their phase}$. It turns out that for an $N$ item search problem with $M$ solutions, we need only apply the search oracle *$O(\\sqrt{N/M})$* times to obtain a solution on a quantum computer."
   ]
  },
  {
   "cell_type": "markdown",
   "metadata": {},
   "source": [
    "## Procedure\n",
    "\n",
    "The search algorithm operates as shown in the diagram below.\n",
    "<img src=\"schematicCirc.png\" alt=\"Schematic circuit for the quantum search algorithm\" title=\"Schematic circuit for the quantum search algorithm\" />\n",
    "\n",
    "The algorithm requires a single $n$ qubit register. Since the internal workings of the oracle along with the extra work qubits needed by it are not necessary for describing the search algorithm, we omit the details here.\n",
    "\n",
    "Firstly, the algorithm initializes the circuit to a state $\\ket{0}^{\\otimes n}$ and a Hadamard traansform converts this state to an equal superposition state:\n",
    "\n",
    "$$\\ket{\\psi} = \\frac{1}{N^{1/2}} \\sum_{x=0}^{N-1} \\ket{x}$$\n",
    "\n",
    "The algorithm then repeatedly applies a quantum subroutine, know as the **Grover iteration** or **Grover operator**, denoted by *G*. The quantum circuit for Grover iteration is as follows: \n",
    "\n",
    "![Circuit for the Grover iteration G](GroverIteration.PNG)\n",
    "\n",
    "The four steps below illustrate the operation of the operation of the above circuit:\n",
    "1. Apply the oracle *O*.\n",
    "2. Apply the Hadamard transform $H^{\\otimes n}$.\n",
    "3. Perform a conditional phase shift, with every computational basis state except $\\ket{0}$ receiving a phase shift of −1, $\\ket{x} \\rightarrow −(−1)^{\\delta x0} \\ket{x}$.\n",
    "4. Apply the Hadamard transform $H^{\\otimes n}$.\n",
    "\n",
    "Each of the operation in the Grover iteration can be efficiently implemented on a quantum computer. Steps $2$ and $4$, require $n = log_2(N)$ operations each while Step $3$, may be implemented using $O(n)$ gates. The cost of the oracle call depends upon\n",
    "the specific application, but for now, we note that the Grover iteration requires only a single oracle call. \n",
    "\n",
    "The combined effect of steps $2$, $3$, and $4$ reduces the initial state to:\n",
    "$$H^{\\otimes n}(2\\ket{0}\\bra{0} − I)H^{\\otimes n} = 2\\ket{\\psi}\\bra{\\psi} − I$$\n",
    "where $\\ket{\\psi}$ is defined as above. \n",
    "\n",
    "Thus the Grover iteration, *G*, may be written as $$G = (2\\ket{\\psi}\\bra{\\psi} − I)O$$\n",
    "\n",
    "*G* can be regarded as a rotation in the two-dimensional space spanned by the starting vector $\\ket{\\psi}$ and the state consisting of a uniform superposition of solutions to the search problem. This improves the probability amplitude of the state associated with the solution of the search algorithm. The upper bound on the number of iterations required for this purpose:\n",
    "$$ R \\leq \\left \\lceil \\frac{\\pi}{4} \\sqrt{\\frac{N}{M}} \\right \\rceil $$\n",
    "\n",
    "Thus $R = O(\\sqrt{N/M})$ Grover iterations (equivalently oracle calls) must be performed to obtain a solution to the search problem with high probability, which is a quadratic improvement over the $O(N/M)$ oracle calls required classically. \n",
    "\n",
    "The quantum search algorithm is summarized below, for the case $M = 1$."
   ]
  },
  {
   "cell_type": "markdown",
   "metadata": {},
   "source": [
    "## Algorithm\n",
    "\n",
    "![algorithm](algo.png)\n",
    "\n",
    "![High-level depiction of Grover’s quantum search algorithm](CircForGrover.png)"
   ]
  },
  {
   "cell_type": "markdown",
   "metadata": {},
   "source": [
    "## Quantum Search on an Unstructured Database\n",
    "\n",
    "Suppose we have a database containing $N ≡ 2^n$ items, each of length $l$ bits labelled as $d_1, ..., d_N$. To determine where a particular $l$ bit string, $s$, is in the database, the organisation of the required quantum computer is as follows.\n",
    "\n",
    "The quantum computer consists of two units (for simplicity), a CPU and a memory. Assuming that the CPU contains four registers:\n",
    "1. an $n$ qubit **index** register initialized to $\\ket{0}$\n",
    "2. an $l$ qubit register initialized to $\\ket{s}$ and the register remains in the same state for the entire computation\n",
    "3. an $l$ qubit **data** register initialized to $\\ket{0}$\n",
    "4. a $1$ qubit register initialized to $\\ket{-}$\n",
    "\n",
    "The memory unit can be implemented in one of two following ways. \n",
    "1. A quantum memory containing $N = 2^n$ cells of $l$ qubits each, containing the database entries $\\ket{d_x}$.\n",
    "2. A classical memory containing $N = 2^n$ cells of $l$ bits each, containing the database entries $d_x$. \n",
    "\n",
    "But unlike the traditional classical memory, the second implementation can be used to address a quantum index $x$ which can be in a superposition of multiple values allowing a superposition of cell values to be loaded from memory. \n",
    "\n",
    "Memory access works in the following way: if the CPU’s index register is in the state $\\ket{x}$ and the data register is in the state $\\ket{d}$, then the contents $d_x$ of the $x^{th}$ memory cell are added to the data register: $\\ket{d} \\rightarrow \\ket{d \\oplus d_x}$, where the addition is done bitwise, modulo $2$. \n",
    "\n",
    "The key part of implementing the quantum search algorithm lies in the implementation of the oracle, which must flip the phase of the index which locates $s$ in the memory. Suppose the CPU is in the state $\\ket{x}\\ket{s}\\ket{0}\\ket{-}$, applying the *LOAD* operation transforms this state to $\\ket{x}\\ket{s}\\ket{d_x}\\ket{-}$. Then, the second and third registers are compared, and if they are the same, then a bit flip is applied to register $4$, otherwise nothing is changed. The effect of this operation is\n",
    "\n",
    "\\begin{equation}\n",
    "    \\ket{x}\\ket{s}\\ket{d_x}\\ket{-} \\rightarrow \n",
    "        \\begin{cases}\n",
    "            -\\ket{x}\\ket{s}\\ket{d_x}\\ket{-} & \\text{$d_x = s$}\\\\\n",
    "            \\ket{x}\\ket{s}\\ket{d_x}\\ket{-} & \\text{$d_x \\neq s$}\n",
    "        \\end{cases}\n",
    "\\end{equation}\n",
    "\n",
    "The data register is then restored to the state $\\ket{0}$ by performing the *LOAD* operation again. The total action of the oracle thus leaves registers $2$, $3$ and $4$ unaffected, and unentangled with register $1$. \n",
    "\n",
    "Using this oracle's implementation we can apply the quantum search algorithm to determine the location of $s$ in the database, using $O(\\sqrt{N})$ *LOAD* operations, compared to the $N$ *LOAD* operations that were required classically.\n",
    "\n",
    "![5-qubit addressing](quantumAddressing.PNG)\n",
    "\n",
    "In order for the oracle to function correctly on superpositions it may seem as though the memory needs to be quantum mechanical. But with some caveats, the memory can actually be implemented classically, making it much more resistant to the effects of noise. Here, a quantum addressing scheme is needed. The picture below depicts a conceptual diagram of a $32$ cell classical memory with a $5$ qubit quantum addressing scheme. Each circle represents a switch which addresses the qubit inscribed within it. For example, when $\\ket{x_4} = \\ket{0}$, the corresponding switch routes the input qubit towards the left and when $\\ket{x_4} = \\ket{1}$ the switch routes the input qubit to the right. If $\\ket{x_4} = (\\ket{0} + \\ket{1})/\\sqrt{2}$, then an equal superposition of both routes is taken. The data register qubits enter at the top of the tree, and are routed down to the database, which changes their state according to the\n",
    "contents of the memory. The qubits are then routed back into a definite position, leaving them with the retrieved\n",
    "information. Physically, this could be realized using, for example, single photons for the data register qubits, which\n",
    "are steered using nonlinear interferometers."
   ]
  },
  {
   "cell_type": "code",
   "execution_count": 1,
   "metadata": {},
   "outputs": [],
   "source": [
    "import matplotlib.pyplot as plt\n",
    "import numpy as np\n",
    "import random\n",
    "import hashlib\n",
    "import string\n",
    "from math import sqrt, pi\n",
    "from collections import OrderedDict\n",
    "from statistics import mean\n",
    "from random import shuffle"
   ]
  },
  {
   "cell_type": "code",
   "execution_count": 2,
   "metadata": {},
   "outputs": [],
   "source": [
    "def oracle(x):\n",
    "    return hashlib.sha256(bytes(x, 'utf-8')).hexdigest()"
   ]
  },
  {
   "cell_type": "code",
   "execution_count": 3,
   "metadata": {},
   "outputs": [],
   "source": [
    "def plotGraph(amplitude, n):\n",
    "    y_pos = np.arange(n)\n",
    "    plt.bar(y_pos, amplitude.values(), align='center', color='m')\n",
    "    keys = list(amplitude.keys())\n",
    "    keys = [obj[1] for obj in keys]\n",
    "    plt.xticks(y_pos, keys)\n",
    "    plt.ylabel('Amplitude')\n",
    "    plt.title('Grover\\'s Search')\n",
    "    plt.show()"
   ]
  },
  {
   "cell_type": "code",
   "execution_count": 4,
   "metadata": {},
   "outputs": [],
   "source": [
    "def grover(key, data, *t):\n",
    "    n = len(data)\n",
    "    rounds = int((pi / 4) * sqrt(n))\n",
    "    def _grover(target, objects, n, rounds):\n",
    "        # initialization\n",
    "        y_pos = np.arange(n)\n",
    "        tuples = [(i, objects[i]) for i in range(n)]\n",
    "        amp = OrderedDict.fromkeys(tuples, 1/sqrt(n))\n",
    "        \n",
    "        if t:\n",
    "            print(\"Rounds required: {}\".format(rounds))\n",
    "            plotGraph(amp,n)\n",
    "        for i in range(0, rounds):\n",
    "            # phase inversion\n",
    "            for k, v in list(amp.items()):\n",
    "                if oracle(k[1]) == target:\n",
    "                    amp[k] = v * -1\n",
    "\n",
    "            # inversion abt mean\n",
    "            avg = mean(amp.values())\n",
    "            for k, v in list(amp.items()):\n",
    "                if oracle(k[1]) == target:\n",
    "                    amp[k] = (2 * avg) + abs(v)\n",
    "                    continue\n",
    "                amp[k] = v-(2*(v-avg))\n",
    "                \n",
    "            if t:\n",
    "                #print(\"Rounds required: {}\".format(rounds))\n",
    "                plotGraph(amp,n)\n",
    "        return amp\n",
    "    \n",
    "    amp = _grover(key, data, n, rounds)\n",
    "    return amp, max(amp, key=amp.get)"
   ]
  },
  {
   "cell_type": "code",
   "execution_count": 5,
   "metadata": {},
   "outputs": [],
   "source": [
    "def shuffle_word(word):\n",
    "    word = list(word)\n",
    "    shuffle(word)\n",
    "    return ''.join(word)"
   ]
  },
  {
   "cell_type": "code",
   "execution_count": 7,
   "metadata": {},
   "outputs": [
    {
     "name": "stdout",
     "output_type": "stream",
     "text": [
      "jrgzlahyxptnkcombfeusqivwd\n",
      "Rounds required: 4\n"
     ]
    },
    {
     "ename": "TypeError",
     "evalue": "unsupported operand type(s) for +: 'int' and 'odict_values'",
     "output_type": "error",
     "traceback": [
      "\u001b[0;31m---------------------------------------------------------------------------\u001b[0m",
      "\u001b[0;31mTypeError\u001b[0m                                 Traceback (most recent call last)",
      "\u001b[0;32m<ipython-input-7-fcaa3953f6ed>\u001b[0m in \u001b[0;36m<module>\u001b[0;34m\u001b[0m\n\u001b[1;32m      2\u001b[0m \u001b[0mhaystack\u001b[0m \u001b[0;34m=\u001b[0m \u001b[0mshuffle_word\u001b[0m\u001b[0;34m(\u001b[0m\u001b[0mstring\u001b[0m\u001b[0;34m.\u001b[0m\u001b[0mascii_lowercase\u001b[0m\u001b[0;34m)\u001b[0m\u001b[0;34m\u001b[0m\u001b[0m\n\u001b[1;32m      3\u001b[0m \u001b[0mprint\u001b[0m\u001b[0;34m(\u001b[0m\u001b[0mhaystack\u001b[0m\u001b[0;34m)\u001b[0m\u001b[0;34m\u001b[0m\u001b[0m\n\u001b[0;32m----> 4\u001b[0;31m \u001b[0mamp\u001b[0m\u001b[0;34m,\u001b[0m \u001b[0midx\u001b[0m \u001b[0;34m=\u001b[0m \u001b[0mgrover\u001b[0m\u001b[0;34m(\u001b[0m\u001b[0mneedle\u001b[0m\u001b[0;34m,\u001b[0m \u001b[0mhaystack\u001b[0m\u001b[0;34m,\u001b[0m \u001b[0;36m1\u001b[0m\u001b[0;34m)\u001b[0m\u001b[0;34m\u001b[0m\u001b[0m\n\u001b[0m\u001b[1;32m      5\u001b[0m \u001b[0;31m#plotGraph(amp, len(haystack))\u001b[0m\u001b[0;34m\u001b[0m\u001b[0;34m\u001b[0m\u001b[0m\n\u001b[1;32m      6\u001b[0m \u001b[0mprint\u001b[0m\u001b[0;34m(\u001b[0m\u001b[0midx\u001b[0m\u001b[0;34m)\u001b[0m\u001b[0;34m\u001b[0m\u001b[0m\n",
      "\u001b[0;32m<ipython-input-4-769f87587211>\u001b[0m in \u001b[0;36mgrover\u001b[0;34m(key, data, *t)\u001b[0m\n\u001b[1;32m     30\u001b[0m         \u001b[0;32mreturn\u001b[0m \u001b[0mamp\u001b[0m\u001b[0;34m\u001b[0m\u001b[0m\n\u001b[1;32m     31\u001b[0m \u001b[0;34m\u001b[0m\u001b[0m\n\u001b[0;32m---> 32\u001b[0;31m     \u001b[0mamp\u001b[0m \u001b[0;34m=\u001b[0m \u001b[0m_grover\u001b[0m\u001b[0;34m(\u001b[0m\u001b[0mkey\u001b[0m\u001b[0;34m,\u001b[0m \u001b[0mdata\u001b[0m\u001b[0;34m,\u001b[0m \u001b[0mn\u001b[0m\u001b[0;34m,\u001b[0m \u001b[0mrounds\u001b[0m\u001b[0;34m)\u001b[0m\u001b[0;34m\u001b[0m\u001b[0m\n\u001b[0m\u001b[1;32m     33\u001b[0m     \u001b[0;32mreturn\u001b[0m \u001b[0mamp\u001b[0m\u001b[0;34m,\u001b[0m \u001b[0mmax\u001b[0m\u001b[0;34m(\u001b[0m\u001b[0mamp\u001b[0m\u001b[0;34m,\u001b[0m \u001b[0mkey\u001b[0m\u001b[0;34m=\u001b[0m\u001b[0mamp\u001b[0m\u001b[0;34m.\u001b[0m\u001b[0mget\u001b[0m\u001b[0;34m)\u001b[0m\u001b[0;34m\u001b[0m\u001b[0m\n",
      "\u001b[0;32m<ipython-input-4-769f87587211>\u001b[0m in \u001b[0;36m_grover\u001b[0;34m(target, objects, n, rounds)\u001b[0m\n\u001b[1;32m     10\u001b[0m         \u001b[0;32mif\u001b[0m \u001b[0mt\u001b[0m\u001b[0;34m:\u001b[0m\u001b[0;34m\u001b[0m\u001b[0m\n\u001b[1;32m     11\u001b[0m             \u001b[0mprint\u001b[0m\u001b[0;34m(\u001b[0m\u001b[0;34m\"Rounds required: {}\"\u001b[0m\u001b[0;34m.\u001b[0m\u001b[0mformat\u001b[0m\u001b[0;34m(\u001b[0m\u001b[0mrounds\u001b[0m\u001b[0;34m)\u001b[0m\u001b[0;34m)\u001b[0m\u001b[0;34m\u001b[0m\u001b[0m\n\u001b[0;32m---> 12\u001b[0;31m             \u001b[0mplotGraph\u001b[0m\u001b[0;34m(\u001b[0m\u001b[0mamp\u001b[0m\u001b[0;34m,\u001b[0m\u001b[0mn\u001b[0m\u001b[0;34m)\u001b[0m\u001b[0;34m\u001b[0m\u001b[0m\n\u001b[0m\u001b[1;32m     13\u001b[0m         \u001b[0;32mfor\u001b[0m \u001b[0mi\u001b[0m \u001b[0;32min\u001b[0m \u001b[0mrange\u001b[0m\u001b[0;34m(\u001b[0m\u001b[0;36m0\u001b[0m\u001b[0;34m,\u001b[0m \u001b[0mrounds\u001b[0m\u001b[0;34m)\u001b[0m\u001b[0;34m:\u001b[0m\u001b[0;34m\u001b[0m\u001b[0m\n\u001b[1;32m     14\u001b[0m             \u001b[0;31m# phase inversion\u001b[0m\u001b[0;34m\u001b[0m\u001b[0;34m\u001b[0m\u001b[0m\n",
      "\u001b[0;32m<ipython-input-3-eee43c0719d6>\u001b[0m in \u001b[0;36mplotGraph\u001b[0;34m(amplitude, n)\u001b[0m\n\u001b[1;32m      1\u001b[0m \u001b[0;32mdef\u001b[0m \u001b[0mplotGraph\u001b[0m\u001b[0;34m(\u001b[0m\u001b[0mamplitude\u001b[0m\u001b[0;34m,\u001b[0m \u001b[0mn\u001b[0m\u001b[0;34m)\u001b[0m\u001b[0;34m:\u001b[0m\u001b[0;34m\u001b[0m\u001b[0m\n\u001b[1;32m      2\u001b[0m     \u001b[0my_pos\u001b[0m \u001b[0;34m=\u001b[0m \u001b[0mnp\u001b[0m\u001b[0;34m.\u001b[0m\u001b[0marange\u001b[0m\u001b[0;34m(\u001b[0m\u001b[0mn\u001b[0m\u001b[0;34m)\u001b[0m\u001b[0;34m\u001b[0m\u001b[0m\n\u001b[0;32m----> 3\u001b[0;31m     \u001b[0mplt\u001b[0m\u001b[0;34m.\u001b[0m\u001b[0mbar\u001b[0m\u001b[0;34m(\u001b[0m\u001b[0my_pos\u001b[0m\u001b[0;34m,\u001b[0m \u001b[0mamplitude\u001b[0m\u001b[0;34m.\u001b[0m\u001b[0mvalues\u001b[0m\u001b[0;34m(\u001b[0m\u001b[0;34m)\u001b[0m\u001b[0;34m,\u001b[0m \u001b[0malign\u001b[0m\u001b[0;34m=\u001b[0m\u001b[0;34m'center'\u001b[0m\u001b[0;34m,\u001b[0m \u001b[0mcolor\u001b[0m\u001b[0;34m=\u001b[0m\u001b[0;34m'm'\u001b[0m\u001b[0;34m)\u001b[0m\u001b[0;34m\u001b[0m\u001b[0m\n\u001b[0m\u001b[1;32m      4\u001b[0m     \u001b[0mkeys\u001b[0m \u001b[0;34m=\u001b[0m \u001b[0mlist\u001b[0m\u001b[0;34m(\u001b[0m\u001b[0mamplitude\u001b[0m\u001b[0;34m.\u001b[0m\u001b[0mkeys\u001b[0m\u001b[0;34m(\u001b[0m\u001b[0;34m)\u001b[0m\u001b[0;34m)\u001b[0m\u001b[0;34m\u001b[0m\u001b[0m\n\u001b[1;32m      5\u001b[0m     \u001b[0mkeys\u001b[0m \u001b[0;34m=\u001b[0m \u001b[0;34m[\u001b[0m\u001b[0mobj\u001b[0m\u001b[0;34m[\u001b[0m\u001b[0;36m1\u001b[0m\u001b[0;34m]\u001b[0m \u001b[0;32mfor\u001b[0m \u001b[0mobj\u001b[0m \u001b[0;32min\u001b[0m \u001b[0mkeys\u001b[0m\u001b[0;34m]\u001b[0m\u001b[0;34m\u001b[0m\u001b[0m\n",
      "\u001b[0;32m~/anaconda3/lib/python3.6/site-packages/matplotlib/pyplot.py\u001b[0m in \u001b[0;36mbar\u001b[0;34m(x, height, width, bottom, align, data, **kwargs)\u001b[0m\n\u001b[1;32m   2443\u001b[0m     return gca().bar(\n\u001b[1;32m   2444\u001b[0m         \u001b[0mx\u001b[0m\u001b[0;34m=\u001b[0m\u001b[0mx\u001b[0m\u001b[0;34m,\u001b[0m \u001b[0mheight\u001b[0m\u001b[0;34m=\u001b[0m\u001b[0mheight\u001b[0m\u001b[0;34m,\u001b[0m \u001b[0mwidth\u001b[0m\u001b[0;34m=\u001b[0m\u001b[0mwidth\u001b[0m\u001b[0;34m,\u001b[0m \u001b[0mbottom\u001b[0m\u001b[0;34m=\u001b[0m\u001b[0mbottom\u001b[0m\u001b[0;34m,\u001b[0m \u001b[0malign\u001b[0m\u001b[0;34m=\u001b[0m\u001b[0malign\u001b[0m\u001b[0;34m,\u001b[0m\u001b[0;34m\u001b[0m\u001b[0m\n\u001b[0;32m-> 2445\u001b[0;31m         data=data, **kwargs)\n\u001b[0m\u001b[1;32m   2446\u001b[0m \u001b[0;34m\u001b[0m\u001b[0m\n\u001b[1;32m   2447\u001b[0m \u001b[0;31m# Autogenerated by boilerplate.py.  Do not edit as changes will be lost.\u001b[0m\u001b[0;34m\u001b[0m\u001b[0;34m\u001b[0m\u001b[0m\n",
      "\u001b[0;32m~/anaconda3/lib/python3.6/site-packages/matplotlib/__init__.py\u001b[0m in \u001b[0;36minner\u001b[0;34m(ax, data, *args, **kwargs)\u001b[0m\n\u001b[1;32m   1783\u001b[0m                         \u001b[0;34m\"the Matplotlib list!)\"\u001b[0m \u001b[0;34m%\u001b[0m \u001b[0;34m(\u001b[0m\u001b[0mlabel_namer\u001b[0m\u001b[0;34m,\u001b[0m \u001b[0mfunc\u001b[0m\u001b[0;34m.\u001b[0m\u001b[0m__name__\u001b[0m\u001b[0;34m)\u001b[0m\u001b[0;34m,\u001b[0m\u001b[0;34m\u001b[0m\u001b[0m\n\u001b[1;32m   1784\u001b[0m                         RuntimeWarning, stacklevel=2)\n\u001b[0;32m-> 1785\u001b[0;31m             \u001b[0;32mreturn\u001b[0m \u001b[0mfunc\u001b[0m\u001b[0;34m(\u001b[0m\u001b[0max\u001b[0m\u001b[0;34m,\u001b[0m \u001b[0;34m*\u001b[0m\u001b[0margs\u001b[0m\u001b[0;34m,\u001b[0m \u001b[0;34m**\u001b[0m\u001b[0mkwargs\u001b[0m\u001b[0;34m)\u001b[0m\u001b[0;34m\u001b[0m\u001b[0m\n\u001b[0m\u001b[1;32m   1786\u001b[0m \u001b[0;34m\u001b[0m\u001b[0m\n\u001b[1;32m   1787\u001b[0m         inner.__doc__ = _add_data_doc(inner.__doc__,\n",
      "\u001b[0;32m~/anaconda3/lib/python3.6/site-packages/matplotlib/axes/_axes.py\u001b[0m in \u001b[0;36mbar\u001b[0;34m(self, x, height, width, bottom, align, **kwargs)\u001b[0m\n\u001b[1;32m   2287\u001b[0m                 \u001b[0medgecolor\u001b[0m\u001b[0;34m=\u001b[0m\u001b[0me\u001b[0m\u001b[0;34m,\u001b[0m\u001b[0;34m\u001b[0m\u001b[0m\n\u001b[1;32m   2288\u001b[0m                 \u001b[0mlinewidth\u001b[0m\u001b[0;34m=\u001b[0m\u001b[0mlw\u001b[0m\u001b[0;34m,\u001b[0m\u001b[0;34m\u001b[0m\u001b[0m\n\u001b[0;32m-> 2289\u001b[0;31m                 \u001b[0mlabel\u001b[0m\u001b[0;34m=\u001b[0m\u001b[0;34m'_nolegend_'\u001b[0m\u001b[0;34m,\u001b[0m\u001b[0;34m\u001b[0m\u001b[0m\n\u001b[0m\u001b[1;32m   2290\u001b[0m                 )\n\u001b[1;32m   2291\u001b[0m             \u001b[0mr\u001b[0m\u001b[0;34m.\u001b[0m\u001b[0mupdate\u001b[0m\u001b[0;34m(\u001b[0m\u001b[0mkwargs\u001b[0m\u001b[0;34m)\u001b[0m\u001b[0;34m\u001b[0m\u001b[0m\n",
      "\u001b[0;32m~/anaconda3/lib/python3.6/site-packages/matplotlib/patches.py\u001b[0m in \u001b[0;36m__init__\u001b[0;34m(self, xy, width, height, angle, **kwargs)\u001b[0m\n\u001b[1;32m    665\u001b[0m \u001b[0;34m\u001b[0m\u001b[0m\n\u001b[1;32m    666\u001b[0m         \u001b[0mself\u001b[0m\u001b[0;34m.\u001b[0m\u001b[0m_x1\u001b[0m \u001b[0;34m=\u001b[0m \u001b[0mself\u001b[0m\u001b[0;34m.\u001b[0m\u001b[0m_x0\u001b[0m \u001b[0;34m+\u001b[0m \u001b[0mself\u001b[0m\u001b[0;34m.\u001b[0m\u001b[0m_width\u001b[0m\u001b[0;34m\u001b[0m\u001b[0m\n\u001b[0;32m--> 667\u001b[0;31m         \u001b[0mself\u001b[0m\u001b[0;34m.\u001b[0m\u001b[0m_y1\u001b[0m \u001b[0;34m=\u001b[0m \u001b[0mself\u001b[0m\u001b[0;34m.\u001b[0m\u001b[0m_y0\u001b[0m \u001b[0;34m+\u001b[0m \u001b[0mself\u001b[0m\u001b[0;34m.\u001b[0m\u001b[0m_height\u001b[0m\u001b[0;34m\u001b[0m\u001b[0m\n\u001b[0m\u001b[1;32m    668\u001b[0m \u001b[0;34m\u001b[0m\u001b[0m\n\u001b[1;32m    669\u001b[0m         \u001b[0mself\u001b[0m\u001b[0;34m.\u001b[0m\u001b[0mangle\u001b[0m \u001b[0;34m=\u001b[0m \u001b[0mfloat\u001b[0m\u001b[0;34m(\u001b[0m\u001b[0mangle\u001b[0m\u001b[0;34m)\u001b[0m\u001b[0;34m\u001b[0m\u001b[0m\n",
      "\u001b[0;31mTypeError\u001b[0m: unsupported operand type(s) for +: 'int' and 'odict_values'"
     ]
    },
    {
     "data": {
      "image/png": "[encoded data removed]",
      "text/plain": [
       "<Figure size 432x288 with 1 Axes>"
      ]
     },
     "metadata": {
      "needs_background": "light"
     },
     "output_type": "display_data"
    }
   ],
   "source": [
    "needle = oracle(\"f\")\n",
    "haystack = shuffle_word(string.ascii_lowercase)\n",
    "print(haystack)\n",
    "amp, idx = grover(needle, haystack, 1)\n",
    "#plotGraph(amp, len(haystack))\n",
    "print(idx)"
   ]
  },
  {
   "cell_type": "markdown",
   "metadata": {},
   "source": [
    "# Experimentation\n",
    "\n",
    "The experimentation is done on the Human-Resource(HR) dataset. The HR data is imported as .csv file.\n",
    "Different files in the data have different intensions. The intension number for the 'core_dataset' is 21. Of all these intension columns, a unique column(KEY) can be selected for searching in the database. For example, 'Employee Number' can be used as the search key. Grover's search algorithm's benefit can be easily found on unordered data and hence, the dataset used is unordered unlike the B and B+ tree ordering of the data in most of the databases. \n"
   ]
  },
  {
   "cell_type": "markdown",
   "metadata": {},
   "source": [
    "Import the data"
   ]
  },
  {
   "cell_type": "code",
   "execution_count": 91,
   "metadata": {},
   "outputs": [
    {
     "name": "stdout",
     "output_type": "stream",
     "text": [
      "[[857211 'Ms.' 'Hermila' ... 'South' 'hjsuhr' 'oZ%{<6wN!A']\n",
      " [514341 'Mr.' 'Antonio' ... 'South' 'aqjoy' '7_[%FE;saZ:B']\n",
      " [314598 'Prof.' 'Sebastian' ... 'Northeast' 'sjmoores' 'Z0:_dR*OQhQlF']\n",
      " ...\n",
      " [192620 'Mrs.' 'Jestine' ... 'Midwest' 'jtsugg' 'M#p8|HJ$.']\n",
      " [249486 'Mr.' 'Johnson' ... 'West' 'jnmclelland' 'kq8o$uQl/PJ@']\n",
      " [829485 'Dr.' 'Rob' ... 'Northeast' 'rtswoope' 'lE/^}Clt']]\n"
     ]
    }
   ],
   "source": [
    "import pandas\n",
    "df = pandas.read_csv('500000-Records/500000 Records.csv')\n",
    "import numpy as np\n",
    "#print(df)\n",
    "data = np.array(df)\n",
    "print(data)"
   ]
  },
  {
   "cell_type": "markdown",
   "metadata": {},
   "source": [
    "'Find' is a linear search algorithm. It takes O(N) time for finding records in the database.\n",
    "It returns -1 if the data queried is not present in the database"
   ]
  },
  {
   "cell_type": "code",
   "execution_count": 63,
   "metadata": {},
   "outputs": [],
   "source": [
    "def find(attr,l):\n",
    "    for idx,i in enumerate(data[0:l]):\n",
    "        if (i[35] == attr):\n",
    "            return idx\n",
    "    return -1"
   ]
  },
  {
   "cell_type": "code",
   "execution_count": 120,
   "metadata": {},
   "outputs": [],
   "source": [
    "times_1 = []\n",
    "times1 = []\n",
    "l = [i for i in range(20,5000)]\n",
    "import time\n",
    "for k in l:\n",
    "    t = random.sample(range(1, k), 10)\n",
    "    for i in t:\n",
    "        start = time.clock() \n",
    "        find(data[i][35],k)\n",
    "        times1.append((time.clock() - start)*1000)\n",
    "    times_1.append(np.average(times1))\n",
    "#print(times_1)"
   ]
  },
  {
   "cell_type": "code",
   "execution_count": 122,
   "metadata": {},
   "outputs": [],
   "source": [
    "times_2 = []\n",
    "times2 = []\n",
    "l = [i for i in range(20,5000)]\n",
    "import time\n",
    "for k in l:\n",
    "    t = random.sample(range(1, k), 10)\n",
    "    for i in t:\n",
    "        needle = oracle(data[i][35]) \n",
    "        start = time.clock() \n",
    "        amp, idx = grover(needle, data[0:k,35])\n",
    "        times2.append((time.clock() - start)*1000)\n",
    "    times_2.append(np.average(times2)/k)"
   ]
  },
  {
   "cell_type": "markdown",
   "metadata": {},
   "source": [
    "Python interaction with MySQL database!"
   ]
  },
  {
   "cell_type": "code",
   "execution_count": 1,
   "metadata": {},
   "outputs": [
    {
     "ename": "ModuleNotFoundError",
     "evalue": "No module named 'MySQLdb'",
     "output_type": "error",
     "traceback": [
      "\u001b[0;31m---------------------------------------------------------------------------\u001b[0m",
      "\u001b[0;31mModuleNotFoundError\u001b[0m                       Traceback (most recent call last)",
      "\u001b[0;32m<ipython-input-1-7ef5aade23c3>\u001b[0m in \u001b[0;36m<module>\u001b[0;34m\u001b[0m\n\u001b[0;32m----> 1\u001b[0;31m \u001b[0;32mimport\u001b[0m \u001b[0mMySQLdb\u001b[0m \u001b[0;32mas\u001b[0m \u001b[0mmdb\u001b[0m\u001b[0;34m\u001b[0m\u001b[0m\n\u001b[0m\u001b[1;32m      2\u001b[0m \u001b[0;32mimport\u001b[0m \u001b[0mMySQLdb\u001b[0m\u001b[0;34m.\u001b[0m\u001b[0mcursors\u001b[0m\u001b[0;34m\u001b[0m\u001b[0m\n\u001b[1;32m      3\u001b[0m \u001b[0;34m\u001b[0m\u001b[0m\n\u001b[1;32m      4\u001b[0m \u001b[0;31m# Database Settings\u001b[0m\u001b[0;34m\u001b[0m\u001b[0;34m\u001b[0m\u001b[0m\n\u001b[1;32m      5\u001b[0m DB_ONE = {  'HOST': 'localhost',\n",
      "\u001b[0;31mModuleNotFoundError\u001b[0m: No module named 'MySQLdb'"
     ]
    }
   ],
   "source": [
    "import MySQLdb as mdb\n",
    "import MySQLdb.cursors\n",
    "\n",
    "# Database Settings\n",
    "DB_ONE = {  'HOST': 'localhost',\n",
    "            'USER': \"root\",\n",
    "            'PASS': \"venu2\",\n",
    "            'DB': \"9000660866\"}\n",
    "\n",
    "# General Functions\n",
    "\n",
    "def connect_to_db(DB_SETTINGS):\n",
    "    \"\"\"\n",
    "    Connect to a database\n",
    "    Returns a connection object\n",
    "    \"\"\"\n",
    "    DBS = DB_SETTINGS\n",
    "    con = mdb.connect(user=DBS['USER'], passwd=DBS['PASS'], host=DBS['HOST'], \n",
    "                    db=DBS['DB'], cursorclass=MySQLdb.cursors.DictCursor,\n",
    "                    charset = \"utf8\", use_unicode = True)\n",
    "    return con\n",
    "\n",
    "def run_query(query, con):\n",
    "    '''\n",
    "    Execute a query\n",
    "    Returns a results set\n",
    "    '''\n",
    "    cur = con.cursor()\n",
    "    cur.execute(query)\n",
    "    result_set = cur.fetchall()\n",
    "    return result_set\n",
    "\n",
    "def print_result(result):\n",
    "    '''\n",
    "    Prints the result in human readable format\n",
    "    '''\n",
    "    for row in result:\n",
    "        print(row)\n",
    "\n",
    "def close(con):\n",
    "    '''\n",
    "    Close a db connection\n",
    "    '''\n",
    "    con.close()\n",
    "\n",
    "con=connect_to_db(DB_ONE)\n",
    "user=raw_input(\"Enter the username: \")\n",
    "print (user)\n",
    "query=\"select * from user where username=\"+user+\";\".format(user)\n",
    "print (query)\n",
    "result=run_query(query,con)\n",
    "print_result(result)\n",
    "\n",
    "\n",
    "close(con)"
   ]
  },
  {
   "cell_type": "code",
   "execution_count": 11,
   "metadata": {},
   "outputs": [
    {
     "name": "stdout",
     "output_type": "stream",
     "text": [
      "Rounds required: 13\n",
      "0.01648675496688764\n",
      "279\n"
     ]
    }
   ],
   "source": [
    "\n",
    "\n",
    "needle = oracle(\"Onque, Jasmine\")\n",
    "#haystack = shuffle_word(string.ascii_lowercase)\n",
    "#print(haystack)\n",
    "import time\n",
    "start = time.clock()  \n",
    "amp, idx = grover(needle, data)\n",
    "print((time.clock() - start)*1000/data.shape[0])\n",
    "print(idx[0])\n",
    "#plotGraph(amp, len(haystack))"
   ]
  },
  {
   "cell_type": "code",
   "execution_count": null,
   "metadata": {},
   "outputs": [],
   "source": []
  },
  {
   "cell_type": "code",
   "execution_count": null,
   "metadata": {},
   "outputs": [],
   "source": []
  }
 ],
 "metadata": {
  "kernelspec": {
   "display_name": "Python 3",
   "language": "python",
   "name": "python3"
  },
  "language_info": {
   "codemirror_mode": {
    "name": "ipython",
    "version": 3
   },
   "file_extension": ".py",
   "mimetype": "text/x-python",
   "name": "python",
   "nbconvert_exporter": "python",
   "pygments_lexer": "ipython3",
   "version": "3.6.6"
  }
 },
 "nbformat": 4,
 "nbformat_minor": 2
}
